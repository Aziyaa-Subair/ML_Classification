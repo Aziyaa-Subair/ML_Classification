{
 "cells": [
  {
   "cell_type": "markdown",
   "metadata": {},
   "source": [
    "## PROSTATE CANCER CLASSFICATION"
   ]
  },
  {
   "cell_type": "markdown",
   "metadata": {},
   "source": [
    "This prostate cancer dataset contains 100 samples with 8 numerical features and a binary target label (diagnosis_result). Each sample represents a tumor and includes measurements like radius, texture, area, smoothness, etc., extracted from medical images. The goal is to classify tumors as malignant (M) or benign (B) using these features. "
   ]
  },
  {
   "cell_type": "code",
   "execution_count": 1,
   "metadata": {},
   "outputs": [],
   "source": [
    "import pandas as pd\n",
    "import numpy as np\n",
    "import matplotlib.pyplot as plt\n",
    "import seaborn as sns\n"
   ]
  },
  {
   "cell_type": "markdown",
   "metadata": {},
   "source": [
    "Import datset and clean the data"
   ]
  },
  {
   "cell_type": "code",
   "execution_count": 2,
   "metadata": {},
   "outputs": [
    {
     "data": {
      "text/html": [
       "<div>\n",
       "<style scoped>\n",
       "    .dataframe tbody tr th:only-of-type {\n",
       "        vertical-align: middle;\n",
       "    }\n",
       "\n",
       "    .dataframe tbody tr th {\n",
       "        vertical-align: top;\n",
       "    }\n",
       "\n",
       "    .dataframe thead th {\n",
       "        text-align: right;\n",
       "    }\n",
       "</style>\n",
       "<table border=\"1\" class=\"dataframe\">\n",
       "  <thead>\n",
       "    <tr style=\"text-align: right;\">\n",
       "      <th></th>\n",
       "      <th>id</th>\n",
       "      <th>diagnosis_result</th>\n",
       "      <th>radius</th>\n",
       "      <th>texture</th>\n",
       "      <th>perimeter</th>\n",
       "      <th>area</th>\n",
       "      <th>smoothness</th>\n",
       "      <th>compactness</th>\n",
       "      <th>symmetry</th>\n",
       "      <th>fractal_dimension</th>\n",
       "    </tr>\n",
       "  </thead>\n",
       "  <tbody>\n",
       "    <tr>\n",
       "      <th>0</th>\n",
       "      <td>1</td>\n",
       "      <td>M</td>\n",
       "      <td>23</td>\n",
       "      <td>12</td>\n",
       "      <td>151</td>\n",
       "      <td>954</td>\n",
       "      <td>0.143</td>\n",
       "      <td>0.278</td>\n",
       "      <td>0.242</td>\n",
       "      <td>0.079</td>\n",
       "    </tr>\n",
       "    <tr>\n",
       "      <th>1</th>\n",
       "      <td>2</td>\n",
       "      <td>B</td>\n",
       "      <td>9</td>\n",
       "      <td>13</td>\n",
       "      <td>133</td>\n",
       "      <td>1326</td>\n",
       "      <td>0.143</td>\n",
       "      <td>0.079</td>\n",
       "      <td>0.181</td>\n",
       "      <td>0.057</td>\n",
       "    </tr>\n",
       "    <tr>\n",
       "      <th>2</th>\n",
       "      <td>3</td>\n",
       "      <td>M</td>\n",
       "      <td>21</td>\n",
       "      <td>27</td>\n",
       "      <td>130</td>\n",
       "      <td>1203</td>\n",
       "      <td>0.125</td>\n",
       "      <td>0.160</td>\n",
       "      <td>0.207</td>\n",
       "      <td>0.060</td>\n",
       "    </tr>\n",
       "    <tr>\n",
       "      <th>3</th>\n",
       "      <td>4</td>\n",
       "      <td>M</td>\n",
       "      <td>14</td>\n",
       "      <td>16</td>\n",
       "      <td>78</td>\n",
       "      <td>386</td>\n",
       "      <td>0.070</td>\n",
       "      <td>0.284</td>\n",
       "      <td>0.260</td>\n",
       "      <td>0.097</td>\n",
       "    </tr>\n",
       "    <tr>\n",
       "      <th>4</th>\n",
       "      <td>5</td>\n",
       "      <td>M</td>\n",
       "      <td>9</td>\n",
       "      <td>19</td>\n",
       "      <td>135</td>\n",
       "      <td>1297</td>\n",
       "      <td>0.141</td>\n",
       "      <td>0.133</td>\n",
       "      <td>0.181</td>\n",
       "      <td>0.059</td>\n",
       "    </tr>\n",
       "    <tr>\n",
       "      <th>...</th>\n",
       "      <td>...</td>\n",
       "      <td>...</td>\n",
       "      <td>...</td>\n",
       "      <td>...</td>\n",
       "      <td>...</td>\n",
       "      <td>...</td>\n",
       "      <td>...</td>\n",
       "      <td>...</td>\n",
       "      <td>...</td>\n",
       "      <td>...</td>\n",
       "    </tr>\n",
       "    <tr>\n",
       "      <th>95</th>\n",
       "      <td>96</td>\n",
       "      <td>M</td>\n",
       "      <td>23</td>\n",
       "      <td>16</td>\n",
       "      <td>132</td>\n",
       "      <td>1264</td>\n",
       "      <td>0.091</td>\n",
       "      <td>0.131</td>\n",
       "      <td>0.210</td>\n",
       "      <td>0.056</td>\n",
       "    </tr>\n",
       "    <tr>\n",
       "      <th>96</th>\n",
       "      <td>97</td>\n",
       "      <td>B</td>\n",
       "      <td>22</td>\n",
       "      <td>14</td>\n",
       "      <td>78</td>\n",
       "      <td>451</td>\n",
       "      <td>0.105</td>\n",
       "      <td>0.071</td>\n",
       "      <td>0.190</td>\n",
       "      <td>0.066</td>\n",
       "    </tr>\n",
       "    <tr>\n",
       "      <th>97</th>\n",
       "      <td>98</td>\n",
       "      <td>B</td>\n",
       "      <td>19</td>\n",
       "      <td>27</td>\n",
       "      <td>62</td>\n",
       "      <td>295</td>\n",
       "      <td>0.102</td>\n",
       "      <td>0.053</td>\n",
       "      <td>0.135</td>\n",
       "      <td>0.069</td>\n",
       "    </tr>\n",
       "    <tr>\n",
       "      <th>98</th>\n",
       "      <td>99</td>\n",
       "      <td>B</td>\n",
       "      <td>21</td>\n",
       "      <td>24</td>\n",
       "      <td>74</td>\n",
       "      <td>413</td>\n",
       "      <td>0.090</td>\n",
       "      <td>0.075</td>\n",
       "      <td>0.162</td>\n",
       "      <td>0.066</td>\n",
       "    </tr>\n",
       "    <tr>\n",
       "      <th>99</th>\n",
       "      <td>100</td>\n",
       "      <td>M</td>\n",
       "      <td>16</td>\n",
       "      <td>27</td>\n",
       "      <td>94</td>\n",
       "      <td>643</td>\n",
       "      <td>0.098</td>\n",
       "      <td>0.114</td>\n",
       "      <td>0.188</td>\n",
       "      <td>0.064</td>\n",
       "    </tr>\n",
       "  </tbody>\n",
       "</table>\n",
       "<p>100 rows × 10 columns</p>\n",
       "</div>"
      ],
      "text/plain": [
       "     id diagnosis_result  radius  texture  perimeter  area  smoothness  \\\n",
       "0     1                M      23       12        151   954       0.143   \n",
       "1     2                B       9       13        133  1326       0.143   \n",
       "2     3                M      21       27        130  1203       0.125   \n",
       "3     4                M      14       16         78   386       0.070   \n",
       "4     5                M       9       19        135  1297       0.141   \n",
       "..  ...              ...     ...      ...        ...   ...         ...   \n",
       "95   96                M      23       16        132  1264       0.091   \n",
       "96   97                B      22       14         78   451       0.105   \n",
       "97   98                B      19       27         62   295       0.102   \n",
       "98   99                B      21       24         74   413       0.090   \n",
       "99  100                M      16       27         94   643       0.098   \n",
       "\n",
       "    compactness  symmetry  fractal_dimension  \n",
       "0         0.278     0.242              0.079  \n",
       "1         0.079     0.181              0.057  \n",
       "2         0.160     0.207              0.060  \n",
       "3         0.284     0.260              0.097  \n",
       "4         0.133     0.181              0.059  \n",
       "..          ...       ...                ...  \n",
       "95        0.131     0.210              0.056  \n",
       "96        0.071     0.190              0.066  \n",
       "97        0.053     0.135              0.069  \n",
       "98        0.075     0.162              0.066  \n",
       "99        0.114     0.188              0.064  \n",
       "\n",
       "[100 rows x 10 columns]"
      ]
     },
     "execution_count": 2,
     "metadata": {},
     "output_type": "execute_result"
    }
   ],
   "source": [
    "data = pd.read_csv(r\"D:\\Datascience\\My_Projects\\Prostate_cancer_classification\\Prostate_Cancer.csv\")\n",
    "data"
   ]
  },
  {
   "cell_type": "code",
   "execution_count": 3,
   "metadata": {},
   "outputs": [
    {
     "name": "stdout",
     "output_type": "stream",
     "text": [
      "<class 'pandas.core.frame.DataFrame'>\n",
      "RangeIndex: 100 entries, 0 to 99\n",
      "Data columns (total 10 columns):\n",
      " #   Column             Non-Null Count  Dtype  \n",
      "---  ------             --------------  -----  \n",
      " 0   id                 100 non-null    int64  \n",
      " 1   diagnosis_result   100 non-null    object \n",
      " 2   radius             100 non-null    int64  \n",
      " 3   texture            100 non-null    int64  \n",
      " 4   perimeter          100 non-null    int64  \n",
      " 5   area               100 non-null    int64  \n",
      " 6   smoothness         100 non-null    float64\n",
      " 7   compactness        100 non-null    float64\n",
      " 8   symmetry           100 non-null    float64\n",
      " 9   fractal_dimension  100 non-null    float64\n",
      "dtypes: float64(4), int64(5), object(1)\n",
      "memory usage: 7.9+ KB\n"
     ]
    }
   ],
   "source": [
    "data.info()"
   ]
  },
  {
   "cell_type": "code",
   "execution_count": 4,
   "metadata": {},
   "outputs": [
    {
     "data": {
      "text/plain": [
       "id                   False\n",
       "diagnosis_result     False\n",
       "radius               False\n",
       "texture              False\n",
       "perimeter            False\n",
       "area                 False\n",
       "smoothness           False\n",
       "compactness          False\n",
       "symmetry             False\n",
       "fractal_dimension    False\n",
       "dtype: bool"
      ]
     },
     "execution_count": 4,
     "metadata": {},
     "output_type": "execute_result"
    }
   ],
   "source": [
    "data.isnull().any()"
   ]
  },
  {
   "cell_type": "code",
   "execution_count": 5,
   "metadata": {},
   "outputs": [
    {
     "data": {
      "text/plain": [
       "False"
      ]
     },
     "execution_count": 5,
     "metadata": {},
     "output_type": "execute_result"
    }
   ],
   "source": [
    "data.duplicated().any()"
   ]
  },
  {
   "cell_type": "code",
   "execution_count": 6,
   "metadata": {},
   "outputs": [
    {
     "data": {
      "text/html": [
       "<div>\n",
       "<style scoped>\n",
       "    .dataframe tbody tr th:only-of-type {\n",
       "        vertical-align: middle;\n",
       "    }\n",
       "\n",
       "    .dataframe tbody tr th {\n",
       "        vertical-align: top;\n",
       "    }\n",
       "\n",
       "    .dataframe thead th {\n",
       "        text-align: right;\n",
       "    }\n",
       "</style>\n",
       "<table border=\"1\" class=\"dataframe\">\n",
       "  <thead>\n",
       "    <tr style=\"text-align: right;\">\n",
       "      <th></th>\n",
       "      <th>id</th>\n",
       "      <th>diagnosis_result</th>\n",
       "      <th>radius</th>\n",
       "      <th>texture</th>\n",
       "      <th>perimeter</th>\n",
       "      <th>area</th>\n",
       "      <th>smoothness</th>\n",
       "      <th>compactness</th>\n",
       "      <th>symmetry</th>\n",
       "      <th>fractal_dimension</th>\n",
       "    </tr>\n",
       "  </thead>\n",
       "  <tbody>\n",
       "    <tr>\n",
       "      <th>0</th>\n",
       "      <td>1</td>\n",
       "      <td>M</td>\n",
       "      <td>23</td>\n",
       "      <td>12</td>\n",
       "      <td>151</td>\n",
       "      <td>954</td>\n",
       "      <td>0.14</td>\n",
       "      <td>0.28</td>\n",
       "      <td>0.24</td>\n",
       "      <td>0.08</td>\n",
       "    </tr>\n",
       "    <tr>\n",
       "      <th>1</th>\n",
       "      <td>2</td>\n",
       "      <td>B</td>\n",
       "      <td>9</td>\n",
       "      <td>13</td>\n",
       "      <td>133</td>\n",
       "      <td>1326</td>\n",
       "      <td>0.14</td>\n",
       "      <td>0.08</td>\n",
       "      <td>0.18</td>\n",
       "      <td>0.06</td>\n",
       "    </tr>\n",
       "    <tr>\n",
       "      <th>2</th>\n",
       "      <td>3</td>\n",
       "      <td>M</td>\n",
       "      <td>21</td>\n",
       "      <td>27</td>\n",
       "      <td>130</td>\n",
       "      <td>1203</td>\n",
       "      <td>0.12</td>\n",
       "      <td>0.16</td>\n",
       "      <td>0.21</td>\n",
       "      <td>0.06</td>\n",
       "    </tr>\n",
       "    <tr>\n",
       "      <th>3</th>\n",
       "      <td>4</td>\n",
       "      <td>M</td>\n",
       "      <td>14</td>\n",
       "      <td>16</td>\n",
       "      <td>78</td>\n",
       "      <td>386</td>\n",
       "      <td>0.07</td>\n",
       "      <td>0.28</td>\n",
       "      <td>0.26</td>\n",
       "      <td>0.10</td>\n",
       "    </tr>\n",
       "    <tr>\n",
       "      <th>4</th>\n",
       "      <td>5</td>\n",
       "      <td>M</td>\n",
       "      <td>9</td>\n",
       "      <td>19</td>\n",
       "      <td>135</td>\n",
       "      <td>1297</td>\n",
       "      <td>0.14</td>\n",
       "      <td>0.13</td>\n",
       "      <td>0.18</td>\n",
       "      <td>0.06</td>\n",
       "    </tr>\n",
       "    <tr>\n",
       "      <th>...</th>\n",
       "      <td>...</td>\n",
       "      <td>...</td>\n",
       "      <td>...</td>\n",
       "      <td>...</td>\n",
       "      <td>...</td>\n",
       "      <td>...</td>\n",
       "      <td>...</td>\n",
       "      <td>...</td>\n",
       "      <td>...</td>\n",
       "      <td>...</td>\n",
       "    </tr>\n",
       "    <tr>\n",
       "      <th>95</th>\n",
       "      <td>96</td>\n",
       "      <td>M</td>\n",
       "      <td>23</td>\n",
       "      <td>16</td>\n",
       "      <td>132</td>\n",
       "      <td>1264</td>\n",
       "      <td>0.09</td>\n",
       "      <td>0.13</td>\n",
       "      <td>0.21</td>\n",
       "      <td>0.06</td>\n",
       "    </tr>\n",
       "    <tr>\n",
       "      <th>96</th>\n",
       "      <td>97</td>\n",
       "      <td>B</td>\n",
       "      <td>22</td>\n",
       "      <td>14</td>\n",
       "      <td>78</td>\n",
       "      <td>451</td>\n",
       "      <td>0.10</td>\n",
       "      <td>0.07</td>\n",
       "      <td>0.19</td>\n",
       "      <td>0.07</td>\n",
       "    </tr>\n",
       "    <tr>\n",
       "      <th>97</th>\n",
       "      <td>98</td>\n",
       "      <td>B</td>\n",
       "      <td>19</td>\n",
       "      <td>27</td>\n",
       "      <td>62</td>\n",
       "      <td>295</td>\n",
       "      <td>0.10</td>\n",
       "      <td>0.05</td>\n",
       "      <td>0.14</td>\n",
       "      <td>0.07</td>\n",
       "    </tr>\n",
       "    <tr>\n",
       "      <th>98</th>\n",
       "      <td>99</td>\n",
       "      <td>B</td>\n",
       "      <td>21</td>\n",
       "      <td>24</td>\n",
       "      <td>74</td>\n",
       "      <td>413</td>\n",
       "      <td>0.09</td>\n",
       "      <td>0.08</td>\n",
       "      <td>0.16</td>\n",
       "      <td>0.07</td>\n",
       "    </tr>\n",
       "    <tr>\n",
       "      <th>99</th>\n",
       "      <td>100</td>\n",
       "      <td>M</td>\n",
       "      <td>16</td>\n",
       "      <td>27</td>\n",
       "      <td>94</td>\n",
       "      <td>643</td>\n",
       "      <td>0.10</td>\n",
       "      <td>0.11</td>\n",
       "      <td>0.19</td>\n",
       "      <td>0.06</td>\n",
       "    </tr>\n",
       "  </tbody>\n",
       "</table>\n",
       "<p>100 rows × 10 columns</p>\n",
       "</div>"
      ],
      "text/plain": [
       "     id diagnosis_result  radius  texture  perimeter  area  smoothness  \\\n",
       "0     1                M      23       12        151   954        0.14   \n",
       "1     2                B       9       13        133  1326        0.14   \n",
       "2     3                M      21       27        130  1203        0.12   \n",
       "3     4                M      14       16         78   386        0.07   \n",
       "4     5                M       9       19        135  1297        0.14   \n",
       "..  ...              ...     ...      ...        ...   ...         ...   \n",
       "95   96                M      23       16        132  1264        0.09   \n",
       "96   97                B      22       14         78   451        0.10   \n",
       "97   98                B      19       27         62   295        0.10   \n",
       "98   99                B      21       24         74   413        0.09   \n",
       "99  100                M      16       27         94   643        0.10   \n",
       "\n",
       "    compactness  symmetry  fractal_dimension  \n",
       "0          0.28      0.24               0.08  \n",
       "1          0.08      0.18               0.06  \n",
       "2          0.16      0.21               0.06  \n",
       "3          0.28      0.26               0.10  \n",
       "4          0.13      0.18               0.06  \n",
       "..          ...       ...                ...  \n",
       "95         0.13      0.21               0.06  \n",
       "96         0.07      0.19               0.07  \n",
       "97         0.05      0.14               0.07  \n",
       "98         0.08      0.16               0.07  \n",
       "99         0.11      0.19               0.06  \n",
       "\n",
       "[100 rows x 10 columns]"
      ]
     },
     "execution_count": 6,
     "metadata": {},
     "output_type": "execute_result"
    }
   ],
   "source": [
    "data.round(2)"
   ]
  },
  {
   "cell_type": "markdown",
   "metadata": {},
   "source": [
    "Correlation"
   ]
  },
  {
   "cell_type": "code",
   "execution_count": 7,
   "metadata": {},
   "outputs": [
    {
     "name": "stderr",
     "output_type": "stream",
     "text": [
      "C:\\Users\\aziya\\AppData\\Local\\Temp\\ipykernel_7956\\2627137660.py:1: FutureWarning: The default value of numeric_only in DataFrame.corr is deprecated. In a future version, it will default to False. Select only valid columns or specify the value of numeric_only to silence this warning.\n",
      "  data.corr()\n"
     ]
    },
    {
     "data": {
      "text/html": [
       "<div>\n",
       "<style scoped>\n",
       "    .dataframe tbody tr th:only-of-type {\n",
       "        vertical-align: middle;\n",
       "    }\n",
       "\n",
       "    .dataframe tbody tr th {\n",
       "        vertical-align: top;\n",
       "    }\n",
       "\n",
       "    .dataframe thead th {\n",
       "        text-align: right;\n",
       "    }\n",
       "</style>\n",
       "<table border=\"1\" class=\"dataframe\">\n",
       "  <thead>\n",
       "    <tr style=\"text-align: right;\">\n",
       "      <th></th>\n",
       "      <th>id</th>\n",
       "      <th>radius</th>\n",
       "      <th>texture</th>\n",
       "      <th>perimeter</th>\n",
       "      <th>area</th>\n",
       "      <th>smoothness</th>\n",
       "      <th>compactness</th>\n",
       "      <th>symmetry</th>\n",
       "      <th>fractal_dimension</th>\n",
       "    </tr>\n",
       "  </thead>\n",
       "  <tbody>\n",
       "    <tr>\n",
       "      <th>id</th>\n",
       "      <td>1.000000</td>\n",
       "      <td>0.047276</td>\n",
       "      <td>0.052263</td>\n",
       "      <td>-0.215953</td>\n",
       "      <td>-0.174354</td>\n",
       "      <td>-0.258328</td>\n",
       "      <td>-0.277554</td>\n",
       "      <td>-0.222334</td>\n",
       "      <td>-0.164946</td>\n",
       "    </tr>\n",
       "    <tr>\n",
       "      <th>radius</th>\n",
       "      <td>0.047276</td>\n",
       "      <td>1.000000</td>\n",
       "      <td>0.100245</td>\n",
       "      <td>-0.238216</td>\n",
       "      <td>-0.250934</td>\n",
       "      <td>-0.127121</td>\n",
       "      <td>-0.191490</td>\n",
       "      <td>-0.039707</td>\n",
       "      <td>-0.029120</td>\n",
       "    </tr>\n",
       "    <tr>\n",
       "      <th>texture</th>\n",
       "      <td>0.052263</td>\n",
       "      <td>0.100245</td>\n",
       "      <td>1.000000</td>\n",
       "      <td>-0.113453</td>\n",
       "      <td>-0.113725</td>\n",
       "      <td>0.102321</td>\n",
       "      <td>0.032446</td>\n",
       "      <td>0.077912</td>\n",
       "      <td>0.139157</td>\n",
       "    </tr>\n",
       "    <tr>\n",
       "      <th>perimeter</th>\n",
       "      <td>-0.215953</td>\n",
       "      <td>-0.238216</td>\n",
       "      <td>-0.113453</td>\n",
       "      <td>1.000000</td>\n",
       "      <td>0.976648</td>\n",
       "      <td>0.269442</td>\n",
       "      <td>0.527542</td>\n",
       "      <td>0.195539</td>\n",
       "      <td>-0.195434</td>\n",
       "    </tr>\n",
       "    <tr>\n",
       "      <th>area</th>\n",
       "      <td>-0.174354</td>\n",
       "      <td>-0.250934</td>\n",
       "      <td>-0.113725</td>\n",
       "      <td>0.976648</td>\n",
       "      <td>1.000000</td>\n",
       "      <td>0.208438</td>\n",
       "      <td>0.424950</td>\n",
       "      <td>0.110435</td>\n",
       "      <td>-0.274344</td>\n",
       "    </tr>\n",
       "    <tr>\n",
       "      <th>smoothness</th>\n",
       "      <td>-0.258328</td>\n",
       "      <td>-0.127121</td>\n",
       "      <td>0.102321</td>\n",
       "      <td>0.269442</td>\n",
       "      <td>0.208438</td>\n",
       "      <td>1.000000</td>\n",
       "      <td>0.465723</td>\n",
       "      <td>0.424203</td>\n",
       "      <td>0.369580</td>\n",
       "    </tr>\n",
       "    <tr>\n",
       "      <th>compactness</th>\n",
       "      <td>-0.277554</td>\n",
       "      <td>-0.191490</td>\n",
       "      <td>0.032446</td>\n",
       "      <td>0.527542</td>\n",
       "      <td>0.424950</td>\n",
       "      <td>0.465723</td>\n",
       "      <td>1.000000</td>\n",
       "      <td>0.681123</td>\n",
       "      <td>0.647953</td>\n",
       "    </tr>\n",
       "    <tr>\n",
       "      <th>symmetry</th>\n",
       "      <td>-0.222334</td>\n",
       "      <td>-0.039707</td>\n",
       "      <td>0.077912</td>\n",
       "      <td>0.195539</td>\n",
       "      <td>0.110435</td>\n",
       "      <td>0.424203</td>\n",
       "      <td>0.681123</td>\n",
       "      <td>1.000000</td>\n",
       "      <td>0.568608</td>\n",
       "    </tr>\n",
       "    <tr>\n",
       "      <th>fractal_dimension</th>\n",
       "      <td>-0.164946</td>\n",
       "      <td>-0.029120</td>\n",
       "      <td>0.139157</td>\n",
       "      <td>-0.195434</td>\n",
       "      <td>-0.274344</td>\n",
       "      <td>0.369580</td>\n",
       "      <td>0.647953</td>\n",
       "      <td>0.568608</td>\n",
       "      <td>1.000000</td>\n",
       "    </tr>\n",
       "  </tbody>\n",
       "</table>\n",
       "</div>"
      ],
      "text/plain": [
       "                         id    radius   texture  perimeter      area  \\\n",
       "id                 1.000000  0.047276  0.052263  -0.215953 -0.174354   \n",
       "radius             0.047276  1.000000  0.100245  -0.238216 -0.250934   \n",
       "texture            0.052263  0.100245  1.000000  -0.113453 -0.113725   \n",
       "perimeter         -0.215953 -0.238216 -0.113453   1.000000  0.976648   \n",
       "area              -0.174354 -0.250934 -0.113725   0.976648  1.000000   \n",
       "smoothness        -0.258328 -0.127121  0.102321   0.269442  0.208438   \n",
       "compactness       -0.277554 -0.191490  0.032446   0.527542  0.424950   \n",
       "symmetry          -0.222334 -0.039707  0.077912   0.195539  0.110435   \n",
       "fractal_dimension -0.164946 -0.029120  0.139157  -0.195434 -0.274344   \n",
       "\n",
       "                   smoothness  compactness  symmetry  fractal_dimension  \n",
       "id                  -0.258328    -0.277554 -0.222334          -0.164946  \n",
       "radius              -0.127121    -0.191490 -0.039707          -0.029120  \n",
       "texture              0.102321     0.032446  0.077912           0.139157  \n",
       "perimeter            0.269442     0.527542  0.195539          -0.195434  \n",
       "area                 0.208438     0.424950  0.110435          -0.274344  \n",
       "smoothness           1.000000     0.465723  0.424203           0.369580  \n",
       "compactness          0.465723     1.000000  0.681123           0.647953  \n",
       "symmetry             0.424203     0.681123  1.000000           0.568608  \n",
       "fractal_dimension    0.369580     0.647953  0.568608           1.000000  "
      ]
     },
     "execution_count": 7,
     "metadata": {},
     "output_type": "execute_result"
    }
   ],
   "source": [
    "data.corr()"
   ]
  },
  {
   "cell_type": "code",
   "execution_count": 8,
   "metadata": {},
   "outputs": [
    {
     "data": {
      "image/png": "[encoded data removed]",
      "text/plain": [
       "<Figure size 1000x800 with 2 Axes>"
      ]
     },
     "metadata": {},
     "output_type": "display_data"
    }
   ],
   "source": [
    "plt.figure(figsize=(10, 8))\n",
    "sns.heatmap(data.drop(columns=[\"diagnosis_result\"]).corr(), annot=True, cmap=\"coolwarm\")\n",
    "plt.title(\"Feature Correlation Heatmap\")\n",
    "plt.show()\n"
   ]
  },
  {
   "cell_type": "markdown",
   "metadata": {},
   "source": [
    "Multicollinarity in area and perimeter. Remove perimeter"
   ]
  },
  {
   "cell_type": "code",
   "execution_count": 9,
   "metadata": {},
   "outputs": [
    {
     "data": {
      "text/plain": [
       "0     151\n",
       "1     133\n",
       "2     130\n",
       "3      78\n",
       "4     135\n",
       "     ... \n",
       "95    132\n",
       "96     78\n",
       "97     62\n",
       "98     74\n",
       "99     94\n",
       "Name: perimeter, Length: 100, dtype: int64"
      ]
     },
     "execution_count": 9,
     "metadata": {},
     "output_type": "execute_result"
    }
   ],
   "source": [
    "data.pop('perimeter')"
   ]
  },
  {
   "cell_type": "markdown",
   "metadata": {},
   "source": [
    "Finding outliers and removing it"
   ]
  },
  {
   "cell_type": "code",
   "execution_count": 10,
   "metadata": {},
   "outputs": [
    {
     "name": "stderr",
     "output_type": "stream",
     "text": [
      "C:\\Users\\aziya\\AppData\\Local\\Temp\\ipykernel_7956\\3879681077.py:1: FutureWarning: The default value of numeric_only in DataFrame.quantile is deprecated. In a future version, it will default to False. Select only valid columns or specify the value of numeric_only to silence this warning.\n",
      "  Q1 = data.quantile(0.25)\n",
      "C:\\Users\\aziya\\AppData\\Local\\Temp\\ipykernel_7956\\3879681077.py:2: FutureWarning: The default value of numeric_only in DataFrame.quantile is deprecated. In a future version, it will default to False. Select only valid columns or specify the value of numeric_only to silence this warning.\n",
      "  Q3 = data.quantile(0.75)\n",
      "C:\\Users\\aziya\\AppData\\Local\\Temp\\ipykernel_7956\\3879681077.py:6: FutureWarning: Automatic reindexing on DataFrame vs Series comparisons is deprecated and will raise ValueError in a future version. Do `left, right = left.align(right, axis=1, copy=False)` before e.g. `left == right`\n",
      "  outliers = ((data < (Q1 - 1.5 * IQR)) | (data > (Q3 + 1.5 * IQR)))\n"
     ]
    }
   ],
   "source": [
    "Q1 = data.quantile(0.25)\n",
    "Q3 = data.quantile(0.75)\n",
    "IQR = Q3 - Q1\n",
    "\n",
    "# Outlier condition\n",
    "outliers = ((data < (Q1 - 1.5 * IQR)) | (data > (Q3 + 1.5 * IQR)))\n",
    "\n",
    "# To get outlier rows:\n",
    "outlier_rows = data[outliers.any(axis=1)]\n"
   ]
  },
  {
   "cell_type": "code",
   "execution_count": 11,
   "metadata": {},
   "outputs": [
    {
     "data": {
      "text/html": [
       "<div>\n",
       "<style scoped>\n",
       "    .dataframe tbody tr th:only-of-type {\n",
       "        vertical-align: middle;\n",
       "    }\n",
       "\n",
       "    .dataframe tbody tr th {\n",
       "        vertical-align: top;\n",
       "    }\n",
       "\n",
       "    .dataframe thead th {\n",
       "        text-align: right;\n",
       "    }\n",
       "</style>\n",
       "<table border=\"1\" class=\"dataframe\">\n",
       "  <thead>\n",
       "    <tr style=\"text-align: right;\">\n",
       "      <th></th>\n",
       "      <th>id</th>\n",
       "      <th>diagnosis_result</th>\n",
       "      <th>radius</th>\n",
       "      <th>texture</th>\n",
       "      <th>area</th>\n",
       "      <th>smoothness</th>\n",
       "      <th>compactness</th>\n",
       "      <th>symmetry</th>\n",
       "      <th>fractal_dimension</th>\n",
       "    </tr>\n",
       "  </thead>\n",
       "  <tbody>\n",
       "    <tr>\n",
       "      <th>0</th>\n",
       "      <td>1</td>\n",
       "      <td>M</td>\n",
       "      <td>23</td>\n",
       "      <td>12</td>\n",
       "      <td>954</td>\n",
       "      <td>0.143</td>\n",
       "      <td>0.278</td>\n",
       "      <td>0.242</td>\n",
       "      <td>0.079</td>\n",
       "    </tr>\n",
       "    <tr>\n",
       "      <th>1</th>\n",
       "      <td>2</td>\n",
       "      <td>B</td>\n",
       "      <td>9</td>\n",
       "      <td>13</td>\n",
       "      <td>1326</td>\n",
       "      <td>0.143</td>\n",
       "      <td>0.079</td>\n",
       "      <td>0.181</td>\n",
       "      <td>0.057</td>\n",
       "    </tr>\n",
       "    <tr>\n",
       "      <th>3</th>\n",
       "      <td>4</td>\n",
       "      <td>M</td>\n",
       "      <td>14</td>\n",
       "      <td>16</td>\n",
       "      <td>386</td>\n",
       "      <td>0.070</td>\n",
       "      <td>0.284</td>\n",
       "      <td>0.260</td>\n",
       "      <td>0.097</td>\n",
       "    </tr>\n",
       "    <tr>\n",
       "      <th>4</th>\n",
       "      <td>5</td>\n",
       "      <td>M</td>\n",
       "      <td>9</td>\n",
       "      <td>19</td>\n",
       "      <td>1297</td>\n",
       "      <td>0.141</td>\n",
       "      <td>0.133</td>\n",
       "      <td>0.181</td>\n",
       "      <td>0.059</td>\n",
       "    </tr>\n",
       "    <tr>\n",
       "      <th>25</th>\n",
       "      <td>26</td>\n",
       "      <td>M</td>\n",
       "      <td>19</td>\n",
       "      <td>27</td>\n",
       "      <td>913</td>\n",
       "      <td>0.119</td>\n",
       "      <td>0.228</td>\n",
       "      <td>0.304</td>\n",
       "      <td>0.074</td>\n",
       "    </tr>\n",
       "    <tr>\n",
       "      <th>60</th>\n",
       "      <td>61</td>\n",
       "      <td>B</td>\n",
       "      <td>15</td>\n",
       "      <td>18</td>\n",
       "      <td>312</td>\n",
       "      <td>0.113</td>\n",
       "      <td>0.081</td>\n",
       "      <td>0.274</td>\n",
       "      <td>0.070</td>\n",
       "    </tr>\n",
       "    <tr>\n",
       "      <th>71</th>\n",
       "      <td>72</td>\n",
       "      <td>B</td>\n",
       "      <td>9</td>\n",
       "      <td>26</td>\n",
       "      <td>244</td>\n",
       "      <td>0.098</td>\n",
       "      <td>0.153</td>\n",
       "      <td>0.190</td>\n",
       "      <td>0.090</td>\n",
       "    </tr>\n",
       "    <tr>\n",
       "      <th>78</th>\n",
       "      <td>79</td>\n",
       "      <td>M</td>\n",
       "      <td>16</td>\n",
       "      <td>18</td>\n",
       "      <td>1245</td>\n",
       "      <td>0.129</td>\n",
       "      <td>0.345</td>\n",
       "      <td>0.291</td>\n",
       "      <td>0.081</td>\n",
       "    </tr>\n",
       "    <tr>\n",
       "      <th>82</th>\n",
       "      <td>83</td>\n",
       "      <td>M</td>\n",
       "      <td>10</td>\n",
       "      <td>15</td>\n",
       "      <td>1878</td>\n",
       "      <td>0.106</td>\n",
       "      <td>0.267</td>\n",
       "      <td>0.183</td>\n",
       "      <td>0.068</td>\n",
       "    </tr>\n",
       "  </tbody>\n",
       "</table>\n",
       "</div>"
      ],
      "text/plain": [
       "    id diagnosis_result  radius  texture  area  smoothness  compactness  \\\n",
       "0    1                M      23       12   954       0.143        0.278   \n",
       "1    2                B       9       13  1326       0.143        0.079   \n",
       "3    4                M      14       16   386       0.070        0.284   \n",
       "4    5                M       9       19  1297       0.141        0.133   \n",
       "25  26                M      19       27   913       0.119        0.228   \n",
       "60  61                B      15       18   312       0.113        0.081   \n",
       "71  72                B       9       26   244       0.098        0.153   \n",
       "78  79                M      16       18  1245       0.129        0.345   \n",
       "82  83                M      10       15  1878       0.106        0.267   \n",
       "\n",
       "    symmetry  fractal_dimension  \n",
       "0      0.242              0.079  \n",
       "1      0.181              0.057  \n",
       "3      0.260              0.097  \n",
       "4      0.181              0.059  \n",
       "25     0.304              0.074  \n",
       "60     0.274              0.070  \n",
       "71     0.190              0.090  \n",
       "78     0.291              0.081  \n",
       "82     0.183              0.068  "
      ]
     },
     "execution_count": 11,
     "metadata": {},
     "output_type": "execute_result"
    }
   ],
   "source": [
    "outlier_rows"
   ]
  },
  {
   "cell_type": "code",
   "execution_count": 12,
   "metadata": {},
   "outputs": [
    {
     "name": "stderr",
     "output_type": "stream",
     "text": [
      "C:\\Users\\aziya\\AppData\\Local\\Temp\\ipykernel_7956\\2580910902.py:7: FutureWarning: Automatic reindexing on DataFrame vs Series comparisons is deprecated and will raise ValueError in a future version. Do `left, right = left.align(right, axis=1, copy=False)` before e.g. `left == right`\n",
      "  data_cleaned = data[~((data < lower_bound) | (data > upper_bound)).any(axis=1)]\n"
     ]
    }
   ],
   "source": [
    "\n",
    "# Define bounds\n",
    "lower_bound = Q1 - 1.5 * IQR\n",
    "upper_bound = Q3 + 1.5 * IQR\n",
    "\n",
    "\n",
    "\n",
    "data_cleaned = data[~((data < lower_bound) | (data > upper_bound)).any(axis=1)]"
   ]
  },
  {
   "cell_type": "code",
   "execution_count": 13,
   "metadata": {},
   "outputs": [
    {
     "name": "stdout",
     "output_type": "stream",
     "text": [
      "Original shape: (100, 9)\n",
      "Cleaned shape: (91, 9)\n"
     ]
    }
   ],
   "source": [
    "print(\"Original shape:\", data.shape)\n",
    "print(\"Cleaned shape:\", data_cleaned.shape)\n"
   ]
  },
  {
   "cell_type": "markdown",
   "metadata": {},
   "source": [
    "Splitting dataset into test and train data"
   ]
  },
  {
   "cell_type": "code",
   "execution_count": 14,
   "metadata": {},
   "outputs": [],
   "source": [
    "x = data.drop(data.columns[1], axis=1)  # Drop column at index 1\n",
    "y = data.iloc[:, 1]   \n"
   ]
  },
  {
   "cell_type": "code",
   "execution_count": 15,
   "metadata": {},
   "outputs": [],
   "source": [
    "from sklearn.model_selection import train_test_split"
   ]
  },
  {
   "cell_type": "code",
   "execution_count": 16,
   "metadata": {},
   "outputs": [],
   "source": [
    "x_train,x_test,y_train,y_test = train_test_split(x,y,test_size=0.2,random_state=42)"
   ]
  },
  {
   "cell_type": "code",
   "execution_count": 17,
   "metadata": {},
   "outputs": [],
   "source": [
    "from sklearn.preprocessing import StandardScaler\n",
    "\n",
    "sc = StandardScaler()\n",
    "x_train = sc.fit_transform(x_train)  \n",
    "x_test = sc.transform(x_test)        \n"
   ]
  },
  {
   "cell_type": "markdown",
   "metadata": {},
   "source": [
    "# LOGISTIC REGRESSION "
   ]
  },
  {
   "cell_type": "code",
   "execution_count": 18,
   "metadata": {},
   "outputs": [],
   "source": [
    "from sklearn.linear_model import LogisticRegression\n",
    "model = LogisticRegression(solver = \"lbfgs\",max_iter=1000)\n",
    "model.fit(x_train,y_train)\n",
    "y_pred1 = model.predict(x_test)\n",
    "y_pred_train = model.predict(x_train)"
   ]
  },
  {
   "cell_type": "code",
   "execution_count": 19,
   "metadata": {},
   "outputs": [
    {
     "name": "stdout",
     "output_type": "stream",
     "text": [
      "Train Accuracy:87.500000\n",
      "Test Accuracy:90.000000\n"
     ]
    }
   ],
   "source": [
    "from sklearn import metrics\n",
    "from sklearn.metrics import accuracy_score\n",
    "print(\"Train Accuracy:%2f\"%(accuracy_score(y_train,y_pred_train)*100))\n",
    "print(\"Test Accuracy:%2f\"% (accuracy_score(y_test,y_pred1)*100))\n"
   ]
  },
  {
   "cell_type": "code",
   "execution_count": 20,
   "metadata": {},
   "outputs": [
    {
     "name": "stdout",
     "output_type": "stream",
     "text": [
      "Train Precision: 87.50%\n",
      "Train Recall: 87.50%\n",
      "Test Precision: 91.11%\n",
      "Test Recall: 90.00%\n"
     ]
    }
   ],
   "source": [
    "from sklearn.metrics import accuracy_score, precision_score, recall_score\n",
    "train_precision1 = precision_score(y_train, y_pred_train, average='weighted')\n",
    "train_recall1 = recall_score(y_train, y_pred_train, average='weighted')\n",
    "print(\"Train Precision: %.2f%%\" % (train_precision1 * 100))\n",
    "print(\"Train Recall: %.2f%%\" % (train_recall1 * 100))\n",
    "\n",
    "test_precision1 = precision_score(y_test, y_pred1, average='weighted')\n",
    "test_recall1 = recall_score(y_test, y_pred1, average='weighted') \n",
    "print(\"Test Precision: %.2f%%\" % (test_precision1 * 100))\n",
    "print(\"Test Recall: %.2f%%\" % (test_recall1 * 100))"
   ]
  },
  {
   "cell_type": "code",
   "execution_count": 21,
   "metadata": {},
   "outputs": [],
   "source": [
    "from sklearn.metrics import confusion_matrix\n",
    "import seaborn as sns\n",
    "from sklearn.preprocessing import LabelEncoder\n",
    "\n",
    "label_encoder = LabelEncoder()\n",
    "y = label_encoder.fit_transform(y) \n",
    "\n",
    "cm = confusion_matrix(y_test, y_pred1)\n",
    "\n"
   ]
  },
  {
   "cell_type": "markdown",
   "metadata": {},
   "source": [
    "Plot confusion matrix"
   ]
  },
  {
   "cell_type": "code",
   "execution_count": 22,
   "metadata": {},
   "outputs": [
    {
     "data": {
      "image/png": "[encoded data removed]",
      "text/plain": [
       "<Figure size 600x400 with 2 Axes>"
      ]
     },
     "metadata": {},
     "output_type": "display_data"
    }
   ],
   "source": [
    "\n",
    "plt.figure(figsize=(6,4))\n",
    "sns.heatmap(cm, annot=True, fmt=\"d\", cmap=\"Blues\", xticklabels=label_encoder.classes_, yticklabels=label_encoder.classes_)\n",
    "plt.xlabel(\"Predicted Label\")\n",
    "plt.ylabel(\"True Label\")\n",
    "plt.title(\"Confusion Matrix\")\n",
    "plt.show()"
   ]
  },
  {
   "cell_type": "markdown",
   "metadata": {},
   "source": [
    "# K-NN"
   ]
  },
  {
   "cell_type": "code",
   "execution_count": 23,
   "metadata": {},
   "outputs": [],
   "source": [
    "from sklearn.neighbors import KNeighborsClassifier\n",
    "model2 = KNeighborsClassifier(n_neighbors=5,metric = \"minkowski\", p =2)"
   ]
  },
  {
   "cell_type": "code",
   "execution_count": 24,
   "metadata": {},
   "outputs": [
    {
     "data": {
      "text/html": [
       "<style>#sk-container-id-1 {color: black;background-color: white;}#sk-container-id-1 pre{padding: 0;}#sk-container-id-1 div.sk-toggleable {background-color: white;}#sk-container-id-1 label.sk-toggleable__label {cursor: pointer;display: block;width: 100%;margin-bottom: 0;padding: 0.3em;box-sizing: border-box;text-align: center;}#sk-container-id-1 label.sk-toggleable__label-arrow:before {content: \"▸\";float: left;margin-right: 0.25em;color: #696969;}#sk-container-id-1 label.sk-toggleable__label-arrow:hover:before {color: black;}#sk-container-id-1 div.sk-estimator:hover label.sk-toggleable__label-arrow:before {color: black;}#sk-container-id-1 div.sk-toggleable__content {max-height: 0;max-width: 0;overflow: hidden;text-align: left;background-color: #f0f8ff;}#sk-container-id-1 div.sk-toggleable__content pre {margin: 0.2em;color: black;border-radius: 0.25em;background-color: #f0f8ff;}#sk-container-id-1 input.sk-toggleable__control:checked~div.sk-toggleable__content {max-height: 200px;max-width: 100%;overflow: auto;}#sk-container-id-1 input.sk-toggleable__control:checked~label.sk-toggleable__label-arrow:before {content: \"▾\";}#sk-container-id-1 div.sk-estimator input.sk-toggleable__control:checked~label.sk-toggleable__label {background-color: #d4ebff;}#sk-container-id-1 div.sk-label input.sk-toggleable__control:checked~label.sk-toggleable__label {background-color: #d4ebff;}#sk-container-id-1 input.sk-hidden--visually {border: 0;clip: rect(1px 1px 1px 1px);clip: rect(1px, 1px, 1px, 1px);height: 1px;margin: -1px;overflow: hidden;padding: 0;position: absolute;width: 1px;}#sk-container-id-1 div.sk-estimator {font-family: monospace;background-color: #f0f8ff;border: 1px dotted black;border-radius: 0.25em;box-sizing: border-box;margin-bottom: 0.5em;}#sk-container-id-1 div.sk-estimator:hover {background-color: #d4ebff;}#sk-container-id-1 div.sk-parallel-item::after {content: \"\";width: 100%;border-bottom: 1px solid gray;flex-grow: 1;}#sk-container-id-1 div.sk-label:hover label.sk-toggleable__label {background-color: #d4ebff;}#sk-container-id-1 div.sk-serial::before {content: \"\";position: absolute;border-left: 1px solid gray;box-sizing: border-box;top: 0;bottom: 0;left: 50%;z-index: 0;}#sk-container-id-1 div.sk-serial {display: flex;flex-direction: column;align-items: center;background-color: white;padding-right: 0.2em;padding-left: 0.2em;position: relative;}#sk-container-id-1 div.sk-item {position: relative;z-index: 1;}#sk-container-id-1 div.sk-parallel {display: flex;align-items: stretch;justify-content: center;background-color: white;position: relative;}#sk-container-id-1 div.sk-item::before, #sk-container-id-1 div.sk-parallel-item::before {content: \"\";position: absolute;border-left: 1px solid gray;box-sizing: border-box;top: 0;bottom: 0;left: 50%;z-index: -1;}#sk-container-id-1 div.sk-parallel-item {display: flex;flex-direction: column;z-index: 1;position: relative;background-color: white;}#sk-container-id-1 div.sk-parallel-item:first-child::after {align-self: flex-end;width: 50%;}#sk-container-id-1 div.sk-parallel-item:last-child::after {align-self: flex-start;width: 50%;}#sk-container-id-1 div.sk-parallel-item:only-child::after {width: 0;}#sk-container-id-1 div.sk-dashed-wrapped {border: 1px dashed gray;margin: 0 0.4em 0.5em 0.4em;box-sizing: border-box;padding-bottom: 0.4em;background-color: white;}#sk-container-id-1 div.sk-label label {font-family: monospace;font-weight: bold;display: inline-block;line-height: 1.2em;}#sk-container-id-1 div.sk-label-container {text-align: center;}#sk-container-id-1 div.sk-container {/* jupyter's `normalize.less` sets `[hidden] { display: none; }` but bootstrap.min.css set `[hidden] { display: none !important; }` so we also need the `!important` here to be able to override the default hidden behavior on the sphinx rendered scikit-learn.org. See: https://github.com/scikit-learn/scikit-learn/issues/21755 */display: inline-block !important;position: relative;}#sk-container-id-1 div.sk-text-repr-fallback {display: none;}</style><div id=\"sk-container-id-1\" class=\"sk-top-container\"><div class=\"sk-text-repr-fallback\"><pre>KNeighborsClassifier()</pre><b>In a Jupyter environment, please rerun this cell to show the HTML representation or trust the notebook. <br />On GitHub, the HTML representation is unable to render, please try loading this page with nbviewer.org.</b></div><div class=\"sk-container\" hidden><div class=\"sk-item\"><div class=\"sk-estimator sk-toggleable\"><input class=\"sk-toggleable__control sk-hidden--visually\" id=\"sk-estimator-id-1\" type=\"checkbox\" checked><label for=\"sk-estimator-id-1\" class=\"sk-toggleable__label sk-toggleable__label-arrow\">KNeighborsClassifier</label><div class=\"sk-toggleable__content\"><pre>KNeighborsClassifier()</pre></div></div></div></div></div>"
      ],
      "text/plain": [
       "KNeighborsClassifier()"
      ]
     },
     "execution_count": 24,
     "metadata": {},
     "output_type": "execute_result"
    }
   ],
   "source": [
    "model2.fit(x_train,y_train)"
   ]
  },
  {
   "cell_type": "code",
   "execution_count": 25,
   "metadata": {},
   "outputs": [],
   "source": [
    "y_pred2 = model2.predict(x_test)\n",
    "y_pred_train2 = model2.predict(x_train)\n"
   ]
  },
  {
   "cell_type": "code",
   "execution_count": 26,
   "metadata": {},
   "outputs": [
    {
     "name": "stdout",
     "output_type": "stream",
     "text": [
      "Train Accuracy:85.000000\n",
      "Test Accuracy:80.000000\n"
     ]
    }
   ],
   "source": [
    "print(\"Train Accuracy:%2f\"%(accuracy_score(y_train,y_pred_train2)*100))\n",
    "print(\"Test Accuracy:%2f\"% (accuracy_score(y_test,y_pred2)*100))\n"
   ]
  },
  {
   "cell_type": "code",
   "execution_count": 27,
   "metadata": {},
   "outputs": [
    {
     "name": "stdout",
     "output_type": "stream",
     "text": [
      "Train Precision: 84.97%\n",
      "Train Recall: 85.00%\n",
      "Test Precision: 76.67%\n",
      "Test Recall: 80.00%\n"
     ]
    }
   ],
   "source": [
    "from sklearn.metrics import accuracy_score, precision_score, recall_score\n",
    "train_precision2 = precision_score(y_train, y_pred_train2, average='weighted')\n",
    "train_recall2 = recall_score(y_train, y_pred_train2, average='weighted')\n",
    "print(\"Train Precision: %.2f%%\" % (train_precision2 * 100))\n",
    "print(\"Train Recall: %.2f%%\" % (train_recall2 * 100))\n",
    "\n",
    "test_precision2 = precision_score(y_test, y_pred2, average='weighted')\n",
    "test_recall2 = recall_score(y_test, y_pred2, average='weighted') \n",
    "print(\"Test Precision: %.2f%%\" % (test_precision2 * 100))\n",
    "print(\"Test Recall: %.2f%%\" % (test_recall2 * 100))"
   ]
  },
  {
   "cell_type": "markdown",
   "metadata": {},
   "source": [
    "# SVM"
   ]
  },
  {
   "cell_type": "code",
   "execution_count": 28,
   "metadata": {},
   "outputs": [
    {
     "data": {
      "text/html": [
       "<style>#sk-container-id-2 {color: black;background-color: white;}#sk-container-id-2 pre{padding: 0;}#sk-container-id-2 div.sk-toggleable {background-color: white;}#sk-container-id-2 label.sk-toggleable__label {cursor: pointer;display: block;width: 100%;margin-bottom: 0;padding: 0.3em;box-sizing: border-box;text-align: center;}#sk-container-id-2 label.sk-toggleable__label-arrow:before {content: \"▸\";float: left;margin-right: 0.25em;color: #696969;}#sk-container-id-2 label.sk-toggleable__label-arrow:hover:before {color: black;}#sk-container-id-2 div.sk-estimator:hover label.sk-toggleable__label-arrow:before {color: black;}#sk-container-id-2 div.sk-toggleable__content {max-height: 0;max-width: 0;overflow: hidden;text-align: left;background-color: #f0f8ff;}#sk-container-id-2 div.sk-toggleable__content pre {margin: 0.2em;color: black;border-radius: 0.25em;background-color: #f0f8ff;}#sk-container-id-2 input.sk-toggleable__control:checked~div.sk-toggleable__content {max-height: 200px;max-width: 100%;overflow: auto;}#sk-container-id-2 input.sk-toggleable__control:checked~label.sk-toggleable__label-arrow:before {content: \"▾\";}#sk-container-id-2 div.sk-estimator input.sk-toggleable__control:checked~label.sk-toggleable__label {background-color: #d4ebff;}#sk-container-id-2 div.sk-label input.sk-toggleable__control:checked~label.sk-toggleable__label {background-color: #d4ebff;}#sk-container-id-2 input.sk-hidden--visually {border: 0;clip: rect(1px 1px 1px 1px);clip: rect(1px, 1px, 1px, 1px);height: 1px;margin: -1px;overflow: hidden;padding: 0;position: absolute;width: 1px;}#sk-container-id-2 div.sk-estimator {font-family: monospace;background-color: #f0f8ff;border: 1px dotted black;border-radius: 0.25em;box-sizing: border-box;margin-bottom: 0.5em;}#sk-container-id-2 div.sk-estimator:hover {background-color: #d4ebff;}#sk-container-id-2 div.sk-parallel-item::after {content: \"\";width: 100%;border-bottom: 1px solid gray;flex-grow: 1;}#sk-container-id-2 div.sk-label:hover label.sk-toggleable__label {background-color: #d4ebff;}#sk-container-id-2 div.sk-serial::before {content: \"\";position: absolute;border-left: 1px solid gray;box-sizing: border-box;top: 0;bottom: 0;left: 50%;z-index: 0;}#sk-container-id-2 div.sk-serial {display: flex;flex-direction: column;align-items: center;background-color: white;padding-right: 0.2em;padding-left: 0.2em;position: relative;}#sk-container-id-2 div.sk-item {position: relative;z-index: 1;}#sk-container-id-2 div.sk-parallel {display: flex;align-items: stretch;justify-content: center;background-color: white;position: relative;}#sk-container-id-2 div.sk-item::before, #sk-container-id-2 div.sk-parallel-item::before {content: \"\";position: absolute;border-left: 1px solid gray;box-sizing: border-box;top: 0;bottom: 0;left: 50%;z-index: -1;}#sk-container-id-2 div.sk-parallel-item {display: flex;flex-direction: column;z-index: 1;position: relative;background-color: white;}#sk-container-id-2 div.sk-parallel-item:first-child::after {align-self: flex-end;width: 50%;}#sk-container-id-2 div.sk-parallel-item:last-child::after {align-self: flex-start;width: 50%;}#sk-container-id-2 div.sk-parallel-item:only-child::after {width: 0;}#sk-container-id-2 div.sk-dashed-wrapped {border: 1px dashed gray;margin: 0 0.4em 0.5em 0.4em;box-sizing: border-box;padding-bottom: 0.4em;background-color: white;}#sk-container-id-2 div.sk-label label {font-family: monospace;font-weight: bold;display: inline-block;line-height: 1.2em;}#sk-container-id-2 div.sk-label-container {text-align: center;}#sk-container-id-2 div.sk-container {/* jupyter's `normalize.less` sets `[hidden] { display: none; }` but bootstrap.min.css set `[hidden] { display: none !important; }` so we also need the `!important` here to be able to override the default hidden behavior on the sphinx rendered scikit-learn.org. See: https://github.com/scikit-learn/scikit-learn/issues/21755 */display: inline-block !important;position: relative;}#sk-container-id-2 div.sk-text-repr-fallback {display: none;}</style><div id=\"sk-container-id-2\" class=\"sk-top-container\"><div class=\"sk-text-repr-fallback\"><pre>SVC(kernel=&#x27;linear&#x27;, random_state=0)</pre><b>In a Jupyter environment, please rerun this cell to show the HTML representation or trust the notebook. <br />On GitHub, the HTML representation is unable to render, please try loading this page with nbviewer.org.</b></div><div class=\"sk-container\" hidden><div class=\"sk-item\"><div class=\"sk-estimator sk-toggleable\"><input class=\"sk-toggleable__control sk-hidden--visually\" id=\"sk-estimator-id-2\" type=\"checkbox\" checked><label for=\"sk-estimator-id-2\" class=\"sk-toggleable__label sk-toggleable__label-arrow\">SVC</label><div class=\"sk-toggleable__content\"><pre>SVC(kernel=&#x27;linear&#x27;, random_state=0)</pre></div></div></div></div></div>"
      ],
      "text/plain": [
       "SVC(kernel='linear', random_state=0)"
      ]
     },
     "execution_count": 28,
     "metadata": {},
     "output_type": "execute_result"
    }
   ],
   "source": [
    "from sklearn.svm import SVC\n",
    "model3 = SVC(kernel = \"linear\",random_state=0)\n",
    "model3.fit(x_train,y_train)"
   ]
  },
  {
   "cell_type": "code",
   "execution_count": 29,
   "metadata": {},
   "outputs": [],
   "source": [
    "y_pred3 = model3.predict(x_test)\n",
    "y_pred_train3 = model3.predict(x_train)"
   ]
  },
  {
   "cell_type": "code",
   "execution_count": 30,
   "metadata": {},
   "outputs": [
    {
     "name": "stdout",
     "output_type": "stream",
     "text": [
      "Train Accuracy:87.500000\n",
      "Test Accuracy:85.000000\n"
     ]
    }
   ],
   "source": [
    "print(\"Train Accuracy:%2f\"%(accuracy_score(y_train,y_pred_train3)*100))\n",
    "print(\"Test Accuracy:%2f\"% (accuracy_score(y_test,y_pred3)*100))"
   ]
  },
  {
   "cell_type": "code",
   "execution_count": 31,
   "metadata": {},
   "outputs": [
    {
     "name": "stdout",
     "output_type": "stream",
     "text": [
      "Train Precision: 87.50%\n",
      "Train Recall: 87.50%\n",
      "Test Precision: 83.92%\n",
      "Test Recall: 85.00%\n"
     ]
    }
   ],
   "source": [
    "train_precision3 = precision_score(y_train, y_pred_train3, average='weighted')\n",
    "train_recall3 = recall_score(y_train, y_pred_train3, average='weighted')\n",
    "print(\"Train Precision: %.2f%%\" % (train_precision3 * 100))\n",
    "print(\"Train Recall: %.2f%%\" % (train_recall3 * 100))\n",
    "\n",
    "test_precision3 = precision_score(y_test, y_pred3, average='weighted')\n",
    "test_recall3 = recall_score(y_test, y_pred3, average='weighted') \n",
    "print(\"Test Precision: %.2f%%\" % (test_precision3 * 100))\n",
    "print(\"Test Recall: %.2f%%\" % (test_recall3 * 100))"
   ]
  },
  {
   "cell_type": "markdown",
   "metadata": {},
   "source": [
    "# NAIVE BAYES"
   ]
  },
  {
   "cell_type": "code",
   "execution_count": 32,
   "metadata": {},
   "outputs": [],
   "source": [
    "from sklearn.naive_bayes import BernoulliNB\n",
    "model4 = BernoulliNB()\n",
    "model4.fit(x_train, y_train)\n",
    "y_pred4 = model4.predict(x_test)\n",
    "y_pred_train4= model4.predict(x_train)"
   ]
  },
  {
   "cell_type": "code",
   "execution_count": 33,
   "metadata": {},
   "outputs": [
    {
     "name": "stdout",
     "output_type": "stream",
     "text": [
      "Train Accuracy:86.250000\n",
      "Test Accuracy:75.000000\n"
     ]
    }
   ],
   "source": [
    "print(\"Train Accuracy:%2f\"%(accuracy_score(y_train,y_pred_train4)*100))\n",
    "print(\"Test Accuracy:%2f\"% (accuracy_score(y_test,y_pred4)*100))"
   ]
  },
  {
   "cell_type": "code",
   "execution_count": 34,
   "metadata": {},
   "outputs": [
    {
     "name": "stdout",
     "output_type": "stream",
     "text": [
      "Train Precision: 86.22%\n",
      "Train Recall: 86.25%\n",
      "Test Precision: 77.33%\n",
      "Test Recall: 75.00%\n"
     ]
    }
   ],
   "source": [
    "train_precision4= precision_score(y_train, y_pred_train4, average='weighted')\n",
    "train_recall4 = recall_score(y_train, y_pred_train4, average='weighted')\n",
    "print(\"Train Precision: %.2f%%\" % (train_precision4 * 100))\n",
    "print(\"Train Recall: %.2f%%\" % (train_recall4 * 100))\n",
    "\n",
    "test_precision4 = precision_score(y_test, y_pred4, average='weighted')\n",
    "test_recall4 = recall_score(y_test, y_pred4, average='weighted') \n",
    "print(\"Test Precision: %.2f%%\" % (test_precision4 * 100))\n",
    "print(\"Test Recall: %.2f%%\" % (test_recall4 * 100))"
   ]
  },
  {
   "cell_type": "markdown",
   "metadata": {},
   "source": [
    "# DECISION TREE"
   ]
  },
  {
   "cell_type": "code",
   "execution_count": null,
   "metadata": {},
   "outputs": [
    {
     "data": {
      "text/html": [
       "<style>#sk-container-id-12 {color: black;background-color: white;}#sk-container-id-12 pre{padding: 0;}#sk-container-id-12 div.sk-toggleable {background-color: white;}#sk-container-id-12 label.sk-toggleable__label {cursor: pointer;display: block;width: 100%;margin-bottom: 0;padding: 0.3em;box-sizing: border-box;text-align: center;}#sk-container-id-12 label.sk-toggleable__label-arrow:before {content: \"▸\";float: left;margin-right: 0.25em;color: #696969;}#sk-container-id-12 label.sk-toggleable__label-arrow:hover:before {color: black;}#sk-container-id-12 div.sk-estimator:hover label.sk-toggleable__label-arrow:before {color: black;}#sk-container-id-12 div.sk-toggleable__content {max-height: 0;max-width: 0;overflow: hidden;text-align: left;background-color: #f0f8ff;}#sk-container-id-12 div.sk-toggleable__content pre {margin: 0.2em;color: black;border-radius: 0.25em;background-color: #f0f8ff;}#sk-container-id-12 input.sk-toggleable__control:checked~div.sk-toggleable__content {max-height: 200px;max-width: 100%;overflow: auto;}#sk-container-id-12 input.sk-toggleable__control:checked~label.sk-toggleable__label-arrow:before {content: \"▾\";}#sk-container-id-12 div.sk-estimator input.sk-toggleable__control:checked~label.sk-toggleable__label {background-color: #d4ebff;}#sk-container-id-12 div.sk-label input.sk-toggleable__control:checked~label.sk-toggleable__label {background-color: #d4ebff;}#sk-container-id-12 input.sk-hidden--visually {border: 0;clip: rect(1px 1px 1px 1px);clip: rect(1px, 1px, 1px, 1px);height: 1px;margin: -1px;overflow: hidden;padding: 0;position: absolute;width: 1px;}#sk-container-id-12 div.sk-estimator {font-family: monospace;background-color: #f0f8ff;border: 1px dotted black;border-radius: 0.25em;box-sizing: border-box;margin-bottom: 0.5em;}#sk-container-id-12 div.sk-estimator:hover {background-color: #d4ebff;}#sk-container-id-12 div.sk-parallel-item::after {content: \"\";width: 100%;border-bottom: 1px solid gray;flex-grow: 1;}#sk-container-id-12 div.sk-label:hover label.sk-toggleable__label {background-color: #d4ebff;}#sk-container-id-12 div.sk-serial::before {content: \"\";position: absolute;border-left: 1px solid gray;box-sizing: border-box;top: 0;bottom: 0;left: 50%;z-index: 0;}#sk-container-id-12 div.sk-serial {display: flex;flex-direction: column;align-items: center;background-color: white;padding-right: 0.2em;padding-left: 0.2em;position: relative;}#sk-container-id-12 div.sk-item {position: relative;z-index: 1;}#sk-container-id-12 div.sk-parallel {display: flex;align-items: stretch;justify-content: center;background-color: white;position: relative;}#sk-container-id-12 div.sk-item::before, #sk-container-id-12 div.sk-parallel-item::before {content: \"\";position: absolute;border-left: 1px solid gray;box-sizing: border-box;top: 0;bottom: 0;left: 50%;z-index: -1;}#sk-container-id-12 div.sk-parallel-item {display: flex;flex-direction: column;z-index: 1;position: relative;background-color: white;}#sk-container-id-12 div.sk-parallel-item:first-child::after {align-self: flex-end;width: 50%;}#sk-container-id-12 div.sk-parallel-item:last-child::after {align-self: flex-start;width: 50%;}#sk-container-id-12 div.sk-parallel-item:only-child::after {width: 0;}#sk-container-id-12 div.sk-dashed-wrapped {border: 1px dashed gray;margin: 0 0.4em 0.5em 0.4em;box-sizing: border-box;padding-bottom: 0.4em;background-color: white;}#sk-container-id-12 div.sk-label label {font-family: monospace;font-weight: bold;display: inline-block;line-height: 1.2em;}#sk-container-id-12 div.sk-label-container {text-align: center;}#sk-container-id-12 div.sk-container {/* jupyter's `normalize.less` sets `[hidden] { display: none; }` but bootstrap.min.css set `[hidden] { display: none !important; }` so we also need the `!important` here to be able to override the default hidden behavior on the sphinx rendered scikit-learn.org. See: https://github.com/scikit-learn/scikit-learn/issues/21755 */display: inline-block !important;position: relative;}#sk-container-id-12 div.sk-text-repr-fallback {display: none;}</style><div id=\"sk-container-id-12\" class=\"sk-top-container\"><div class=\"sk-text-repr-fallback\"><pre>DecisionTreeClassifier(ccp_alpha=0.03, class_weight=&#x27;balanced&#x27;,\n",
       "                       criterion=&#x27;entropy&#x27;, max_depth=2, min_samples_leaf=10,\n",
       "                       min_samples_split=15, random_state=42)</pre><b>In a Jupyter environment, please rerun this cell to show the HTML representation or trust the notebook. <br />On GitHub, the HTML representation is unable to render, please try loading this page with nbviewer.org.</b></div><div class=\"sk-container\" hidden><div class=\"sk-item\"><div class=\"sk-estimator sk-toggleable\"><input class=\"sk-toggleable__control sk-hidden--visually\" id=\"sk-estimator-id-12\" type=\"checkbox\" checked><label for=\"sk-estimator-id-12\" class=\"sk-toggleable__label sk-toggleable__label-arrow\">DecisionTreeClassifier</label><div class=\"sk-toggleable__content\"><pre>DecisionTreeClassifier(ccp_alpha=0.03, class_weight=&#x27;balanced&#x27;,\n",
       "                       criterion=&#x27;entropy&#x27;, max_depth=2, min_samples_leaf=10,\n",
       "                       min_samples_split=15, random_state=42)</pre></div></div></div></div></div>"
      ],
      "text/plain": [
       "DecisionTreeClassifier(ccp_alpha=0.03, class_weight='balanced',\n",
       "                       criterion='entropy', max_depth=2, min_samples_leaf=10,\n",
       "                       min_samples_split=15, random_state=42)"
      ]
     },
     "execution_count": 70,
     "metadata": {},
     "output_type": "execute_result"
    }
   ],
   "source": [
    "from sklearn.tree import DecisionTreeClassifier\n",
    "from sklearn.model_selection import GridSearchCV\n",
    "\n",
    "model5 = DecisionTreeClassifier(criterion=\"entropy\", random_state=42, max_depth=2, min_samples_split=15, min_samples_leaf=10, ccp_alpha=0.03, class_weight=\"balanced\")\n",
    "model5.fit(x_train, y_train)"
   ]
  },
  {
   "cell_type": "code",
   "execution_count": 71,
   "metadata": {},
   "outputs": [],
   "source": [
    "y_pred5 = model5.predict(x_test)\n",
    "y_pred_train5 = model5.predict(x_train)"
   ]
  },
  {
   "cell_type": "code",
   "execution_count": 72,
   "metadata": {},
   "outputs": [
    {
     "name": "stdout",
     "output_type": "stream",
     "text": [
      "Train Accuracy:90.000000\n",
      "Test Accuracy:85.000000\n"
     ]
    }
   ],
   "source": [
    "print(\"Train Accuracy:%2f\"%(accuracy_score(y_train,y_pred_train5)*100))\n",
    "print(\"Test Accuracy:%2f\"% (accuracy_score(y_test,y_pred5)*100))"
   ]
  },
  {
   "cell_type": "code",
   "execution_count": 44,
   "metadata": {},
   "outputs": [
    {
     "name": "stdout",
     "output_type": "stream",
     "text": [
      "Train Precision: 98.78%\n",
      "Train Recall: 98.75%\n",
      "Test Precision: 80.00%\n",
      "Test Recall: 80.00%\n"
     ]
    }
   ],
   "source": [
    "train_precision5 = precision_score(y_train, y_pred_train5, average='weighted')\n",
    "train_recall5 = recall_score(y_train, y_pred_train5, average='weighted')\n",
    "print(\"Train Precision: %.2f%%\" % (train_precision5 * 100))\n",
    "print(\"Train Recall: %.2f%%\" % (train_recall5 * 100))\n",
    "\n",
    "test_precision5 = precision_score(y_test, y_pred5, average='weighted')\n",
    "test_recall5 = recall_score(y_test, y_pred5, average='weighted') \n",
    "print(\"Test Precision: %.2f%%\" % (test_precision5 * 100))\n",
    "print(\"Test Recall: %.2f%%\" % (test_recall5 * 100))"
   ]
  },
  {
   "cell_type": "markdown",
   "metadata": {},
   "source": [
    "# RANDOM FOREST"
   ]
  },
  {
   "cell_type": "code",
   "execution_count": 80,
   "metadata": {},
   "outputs": [],
   "source": [
    "from sklearn.ensemble import RandomForestClassifier\n",
    "model6 = RandomForestClassifier(\n",
    "    n_estimators=100,  # Increased from 50\n",
    "    criterion='entropy',\n",
    "    random_state=42,\n",
    "    max_depth=2,  # Reduced from 3\n",
    "    min_samples_split=20,  # Increased from 10\n",
    "    min_samples_leaf=10,  # Increased from 5\n",
    "    max_features='sqrt'  # Added to limit features per split\n",
    ")\n",
    "model6.fit(x_train, y_train)\n",
    "y_pred6 = model6.predict(x_test)\n",
    "y_pred_train6 = model6.predict(x_train)    "
   ]
  },
  {
   "cell_type": "code",
   "execution_count": 81,
   "metadata": {},
   "outputs": [
    {
     "name": "stdout",
     "output_type": "stream",
     "text": [
      "Train Accuracy:91.250000\n",
      "Test Accuracy:90.000000\n"
     ]
    }
   ],
   "source": [
    "print(\"Train Accuracy:%2f\"%(accuracy_score(y_train,y_pred_train6)*100))\n",
    "print(\"Test Accuracy:%2f\"% (accuracy_score(y_test,y_pred6)*100))"
   ]
  },
  {
   "cell_type": "code",
   "execution_count": 82,
   "metadata": {},
   "outputs": [
    {
     "name": "stdout",
     "output_type": "stream",
     "text": [
      "Train Precision: 91.77%\n",
      "Train Recall: 91.25%\n",
      "Test Precision: 91.11%\n",
      "Test Recall: 90.00%\n"
     ]
    }
   ],
   "source": [
    "from sklearn.metrics import accuracy_score, precision_score, recall_score\n",
    "train_precision6 = precision_score(y_train, y_pred_train6, average='weighted')\n",
    "train_recall6 = recall_score(y_train, y_pred_train6, average='weighted')\n",
    "print(\"Train Precision: %.2f%%\" % (train_precision6 * 100))\n",
    "print(\"Train Recall: %.2f%%\" % (train_recall6 * 100))\n",
    "\n",
    "test_precision6 = precision_score(y_test, y_pred6, average='weighted')\n",
    "test_recall6 = recall_score(y_test, y_pred6, average='weighted') \n",
    "print(\"Test Precision: %.2f%%\" % (test_precision6 * 100))\n",
    "print(\"Test Recall: %.2f%%\" % (test_recall6 * 100))"
   ]
  },
  {
   "cell_type": "markdown",
   "metadata": {},
   "source": [
    "###   Conclusion\n",
    "\n",
    "This prostate cancer classification project effectively demonstrated the capability of machine learning models to distinguish between malignant and benign tumors using key clinical features like radius, texture, and area. Among the tested algorithms, Random Forest and Logistic Regression delivered the highest accuracy (90%), highlighting their reliability for diagnostic applications. The strong performance suggests that these numerical features contain meaningful patterns for tumor classification, though further validation on larger datasets would improve robustness. Ultimately, this work supports the potential of ML-assisted diagnostics to enhance early detection and decision-making in prostate cancer care.\n",
    "\n",
    "\n"
   ]
  },
  {
   "cell_type": "markdown",
   "metadata": {},
   "source": []
  }
 ],
 "metadata": {
  "kernelspec": {
   "display_name": "base",
   "language": "python",
   "name": "python3"
  },
  "language_info": {
   "codemirror_mode": {
    "name": "ipython",
    "version": 3
   },
   "file_extension": ".py",
   "mimetype": "text/x-python",
   "name": "python",
   "nbconvert_exporter": "python",
   "pygments_lexer": "ipython3",
   "version": "3.10.9"
  }
 },
 "nbformat": 4,
 "nbformat_minor": 2
}
